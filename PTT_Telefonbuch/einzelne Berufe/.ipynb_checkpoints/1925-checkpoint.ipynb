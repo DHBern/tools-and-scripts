{
 "cells": [
  {
   "cell_type": "code",
   "execution_count": 7,
   "id": "ab8f6e7d-4e10-45d2-870b-9a5196f4e119",
   "metadata": {},
   "outputs": [],
   "source": [
    "import pandas as pd\n",
    "import matplotlib.pyplot as plt\n",
    "\n",
    "jobs_b3 =  pd.read_table ('C:/Users/dkilc/OneDrive - Universitaet Bern/Neu/Desktop/Studium/DH_WORK/Telefonbuch/b3.tsv')\n",
    "jobs_b6 =  pd.read_table ('C:/Users/dkilc/OneDrive - Universitaet Bern/Neu/Desktop/Studium/DH_WORK/Telefonbuch/b6.tsv')\n",
    "jobs_b3_1925 = jobs_b3[jobs_b3.Year == 1925]\n",
    "jobs_b6_1925 = jobs_b6[jobs_b6.Year == 1925]\n",
    "\n",
    "jobs_1925 = pd.concat([jobs_b3_1925, jobs_b6_1925], ignore_index=True)"
   ]
  },
  {
   "cell_type": "code",
   "execution_count": 8,
   "id": "eab3761b-4f42-40fb-b746-538cd422a5a7",
   "metadata": {},
   "outputs": [
    {
     "name": "stdout",
     "output_type": "stream",
     "text": [
      "Für das Jahr 1925 haben sich insgesamt 78199 eintragen lassen.\n"
     ]
    }
   ],
   "source": [
    "Entries_1925 = len(jobs_1925)\n",
    "print(\"Für das Jahr 1925 haben sich insgesamt\", Entries_1925, \"eintragen lassen.\")"
   ]
  },
  {
   "cell_type": "code",
   "execution_count": 9,
   "id": "60079528-3ccb-464b-8c38-0ad4cd3b5ac6",
   "metadata": {},
   "outputs": [
    {
     "name": "stdout",
     "output_type": "stream",
     "text": [
      "Davon haben 23667 oder 30.265092904001328 % die Spalte 'Supplement' freigelassen.\n"
     ]
    }
   ],
   "source": [
    "empty_Entries_1925 = jobs_1925[\"Supplement\"].isnull().sum()\n",
    "percent_null = (empty_Entries_1925 / Entries_1925) * 100\n",
    "\n",
    "print(\"Davon haben\", empty_Entries_1925, \"oder\", percent_null, \"% die Spalte 'Supplement' freigelassen.\")"
   ]
  },
  {
   "cell_type": "code",
   "execution_count": 10,
   "id": "c2d31f54-5d01-48e6-a5b4-b5b9b2bd5578",
   "metadata": {},
   "outputs": [
    {
     "name": "stdout",
     "output_type": "stream",
     "text": [
      "54532 oder rund 69.73490709599866 % haben etwas in die Spalte 'Supplement eingetragen.\n",
      "Von diesen Einträgen sind 34450 individuell - es gibt also 20082 Einträge, die gleich sind wie andere Einträge.\n"
     ]
    }
   ],
   "source": [
    "notempty_Entries_1925 = jobs_1925[\"Supplement\"].notnull().sum()\n",
    "percent_non_null = (notempty_Entries_1925 / Entries_1925) * 100\n",
    "\n",
    "value_counts_1925 = jobs_1925[\"Supplement\"].value_counts()\n",
    "total_count = len(value_counts_1925)\n",
    "multiple_mentions = (notempty_Entries_1925 - total_count)\n",
    "\n",
    "print(notempty_Entries_1925, \"oder rund\", percent_non_null,  \"% haben etwas in die Spalte 'Supplement eingetragen.\")\n",
    "print (\"Von diesen Einträgen sind\", total_count, \"individuell - es gibt also\", multiple_mentions, \"Einträge, die gleich sind wie andere Einträge.\")"
   ]
  },
  {
   "cell_type": "code",
   "execution_count": 11,
   "id": "d02a5bca-a75a-4cfd-86b9-45509ff763d6",
   "metadata": {},
   "outputs": [
    {
     "data": {
      "image/png": "[encoded data removed]",
      "text/plain": [
       "<Figure size 432x288 with 1 Axes>"
      ]
     },
     "metadata": {
      "needs_background": "light"
     },
     "output_type": "display_data"
    }
   ],
   "source": [
    "plt.bar([\"kein Eintrag\", \"Eintrag\"], [percent_null, percent_non_null], color=['red', 'blue'])\n",
    "\n",
    "plt.xlabel(\"Eintrag\")\n",
    "plt.ylabel(\"Prozent\")\n",
    "plt.title(\"Prozente zu kein Eintrag und Eintrag für Spalte 'Supplement' im Jahr 1925\")\n",
    "\n",
    "plt.show()"
   ]
  },
  {
   "cell_type": "code",
   "execution_count": 12,
   "id": "74f07404-ce4c-4160-9d60-08ac6d2bd394",
   "metadata": {},
   "outputs": [
    {
     "name": "stdout",
     "output_type": "stream",
     "text": [
      "Top 50\n",
      "Landwirt                                                  519\n",
      "Handlung                                                  516\n",
      "Metzger                                                   468\n",
      "Bäckerei                                                  345\n",
      "Metzgerei                                                 337\n",
      "Dr. med.                                                  327\n",
      "Viehhändler                                               324\n",
      "Baugeschäft                                               271\n",
      "Baumeister                                                170\n",
      "Wohnung                                                   169\n",
      "Käserei                                                   154\n",
      "Kaufmann                                                  146\n",
      "Malermeister                                              145\n",
      "Pfarrer                                                   145\n",
      "Tierarzt                                                  144\n",
      "Wirt                                                      137\n",
      "Architekt                                                 132\n",
      "Stationsbureau                                            115\n",
      "Maurermeister                                             112\n",
      "Weinhandlung                                              106\n",
      "Fuhrhalter                                                102\n",
      "Zimmermeister                                             102\n",
      "Ingenieur                                                  99\n",
      "Sägerei                                                    94\n",
      "Zahnarzt                                                   94\n",
      "Stickerei                                                  90\n",
      "Lehrer                                                     88\n",
      "Notar                                                      86\n",
      "Bäckerei und Handlung                                      85\n",
      "Bäckerei und Konditorei                                    85\n",
      "Wirtschaft                                                 81\n",
      "Eisenhandlung                                              78\n",
      "Händler                                                    78\n",
      "Handelsgärtnerei                                           76\n",
      "Telegraphenbur. teleph. Aufträge werden nicht ausger.)     75\n",
      "Broderies                                                  75\n",
      "Fabrikant                                                  73\n",
      "Direktor                                                   71\n",
      "Hebamme                                                    71\n",
      "Käser                                                      71\n",
      "mech. Schreinerei                                          70\n",
      "E.                                                         70\n",
      "J.                                                         70\n",
      "Tuchhandlung                                               68\n",
      "Handelsgärtner                                             66\n",
      "Kolonialwaren                                              65\n",
      "A.                                                         64\n",
      "Landesprodukte                                             64\n",
      "Mühle                                                      64\n",
      "Schuhhandlung                                              64\n",
      "Name: Supplement, dtype: int64\n"
     ]
    }
   ],
   "source": [
    "print(\"Top 50\")\n",
    "\n",
    "print(jobs_1925[\"Supplement\"].value_counts().head(50))"
   ]
  },
  {
   "cell_type": "code",
   "execution_count": null,
   "id": "66854a7d-fe89-411b-9ca1-e7a17754b76e",
   "metadata": {},
   "outputs": [],
   "source": []
  }
 ],
 "metadata": {
  "kernelspec": {
   "display_name": "Python 3 (ipykernel)",
   "language": "python",
   "name": "python3"
  },
  "language_info": {
   "codemirror_mode": {
    "name": "ipython",
    "version": 3
   },
   "file_extension": ".py",
   "mimetype": "text/x-python",
   "name": "python",
   "nbconvert_exporter": "python",
   "pygments_lexer": "ipython3",
   "version": "3.9.7"
  }
 },
 "nbformat": 4,
 "nbformat_minor": 5
}
