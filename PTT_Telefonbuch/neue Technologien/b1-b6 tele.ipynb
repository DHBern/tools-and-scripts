{
 "cells": [
  {
   "cell_type": "code",
   "execution_count": 1,
   "id": "91d512dc-b6ac-47b9-97bc-3a10646cfe87",
   "metadata": {},
   "outputs": [
    {
     "name": "stderr",
     "output_type": "stream",
     "text": [
      "C:\\Users\\dkilc\\Anaconda\\lib\\site-packages\\IPython\\core\\interactiveshell.py:3444: DtypeWarning: Columns (5) have mixed types.Specify dtype option on import or set low_memory=False.\n",
      "  exec(code_obj, self.user_global_ns, self.user_ns)\n"
     ]
    },
    {
     "name": "stdout",
     "output_type": "stream",
     "text": [
      "\"tele\" Vorkommnisse Spalte Year\n",
      "1911    222\n",
      "1912    246\n",
      "1913    260\n",
      "1914    280\n",
      "1915    310\n",
      "1916    328\n",
      "1917    350\n",
      "1918    376\n",
      "1919    402\n",
      "1920    443\n",
      "1921    469\n",
      "1922    526\n",
      "1923    557\n",
      "1924    530\n",
      "1925    597\n",
      "1926    586\n",
      "1927    590\n",
      "1928    434\n",
      "1929    511\n",
      "1930    527\n",
      "1931    651\n",
      "1932    633\n",
      "1933    745\n",
      "1934    787\n",
      "1935    860\n",
      "1936    873\n",
      "1937    996\n",
      "dtype: int64\n"
     ]
    },
    {
     "data": {
      "image/png": "[encoded data removed]",
      "text/plain": [
       "<Figure size 432x288 with 1 Axes>"
      ]
     },
     "metadata": {
      "needs_background": "light"
     },
     "output_type": "display_data"
    }
   ],
   "source": [
    "# Mit diesem Code soll das Auftauchen der neuen Technologie Telefon herausgefunden werden.\n",
    "\n",
    "# Mit diesem Code werden die notwendigen Programmbibliotheken importiert.\n",
    "\n",
    "import pandas as pd\n",
    "import matplotlib.pyplot as plt\n",
    "\n",
    "# Hier werden die vorhandenen TSV (Tab Seperated Value - also durch Leerschläge werden die einzelnen Werte getrennt) eingelesen. \n",
    "# Es handelt sich dabei um die Daten b1 bis b6. Die anderen Dateien sind nicht indexiert, wodurch eine anderer Code als dieser notwendig wäre. \n",
    "# Das Zusmammenführen der Resultate und somit das Abbilden des gesamten Datensatzes wäre kompliziert und dadurch äusserst Fehleranfällig.\n",
    "\n",
    "jobs_b1 = pd.read_table('C:/Users/dkilc/OneDrive - Universitaet Bern/Neu/Desktop/Studium/DH_WORK/Telefonbuch/b1.tsv')\n",
    "jobs_b2 = pd.read_table('C:/Users/dkilc/OneDrive - Universitaet Bern/Neu/Desktop/Studium/DH_WORK/Telefonbuch/b2.tsv')\n",
    "jobs_b3 = pd.read_table('C:/Users/dkilc/OneDrive - Universitaet Bern/Neu/Desktop/Studium/DH_WORK/Telefonbuch/b3.tsv')\n",
    "jobs_b4 = pd.read_table('C:/Users/dkilc/OneDrive - Universitaet Bern/Neu/Desktop/Studium/DH_WORK/Telefonbuch/b4.tsv')\n",
    "jobs_b5 = pd.read_table('C:/Users/dkilc/OneDrive - Universitaet Bern/Neu/Desktop/Studium/DH_WORK/Telefonbuch/b5.tsv')\n",
    "jobs_b6 = pd.read_table('C:/Users/dkilc/OneDrive - Universitaet Bern/Neu/Desktop/Studium/DH_WORK/Telefonbuch/b6.tsv')\n",
    "\n",
    "# Nun werden all diese Einträge in einem Datensatz zusammengefasst.\n",
    "\n",
    "all_jobs = pd.concat([jobs_b1, jobs_b2, jobs_b3, jobs_b4, jobs_b5, jobs_b6])\n",
    "\n",
    "# Mit diesem Code werden alle Zellen entfernt, die in der Zeile 'Supplement' keinen Eintrag besitzen.\n",
    "\n",
    "all_jobs.dropna(subset=['Supplement'], inplace=True)\n",
    "\n",
    "# Nun wird der Datensatz anhand des Vorkommens der Zeichenkette 'tele' in der Spalte 'Supplement' durchsucht.\n",
    "\n",
    "tele_jobs = all_jobs[all_jobs['Supplement'].str.contains('tele', case=False)]\n",
    "\n",
    "# Die Resultate der Durchsuchung werden nach Jahren gruppiert und die Anzahl des Vorkommens der Zeichenkette 'tele' nach Jahren ausgezählt.\n",
    "\n",
    "tele_counts = tele_jobs.groupby('Year').size()\n",
    "\n",
    "# Dieser Code zeigt das Resultat, sowohl als Tabelle als auch als Balkendiagramm, unten an.\n",
    "\n",
    "print('\"tele\" Vorkommnisse Spalte', tele_counts)\n",
    "tele_counts.plot(kind='bar', xlabel='Year', ylabel='Count', title='Vorkommnisse von \"tele\" in der Spalte \"Supplement\" nach Jahren')\n",
    "plt.show()"
   ]
  },
  {
   "cell_type": "code",
   "execution_count": 2,
   "id": "744b084d-752c-499b-bdf3-13a588c7e747",
   "metadata": {},
   "outputs": [
    {
     "name": "stdout",
     "output_type": "stream",
     "text": [
      "\"telefon\" Vorkommnisse Spalte Year\n",
      "1911     5\n",
      "1912     6\n",
      "1913     4\n",
      "1914     6\n",
      "1915     6\n",
      "1916     7\n",
      "1917     9\n",
      "1918    11\n",
      "1919    13\n",
      "1920    13\n",
      "1921    14\n",
      "1922    19\n",
      "1923    17\n",
      "1924    22\n",
      "1925    17\n",
      "1926    19\n",
      "1927    19\n",
      "1928    20\n",
      "1929    18\n",
      "1930    19\n",
      "1931    24\n",
      "1932    24\n",
      "1933    28\n",
      "1934    28\n",
      "1935    25\n",
      "1936    33\n",
      "1937    46\n",
      "dtype: int64\n"
     ]
    },
    {
     "data": {
      "image/png": "[encoded data removed]",
      "text/plain": [
       "<Figure size 432x288 with 1 Axes>"
      ]
     },
     "metadata": {
      "needs_background": "light"
     },
     "output_type": "display_data"
    }
   ],
   "source": [
    "# Nun soll der Datensatz präziser untersucht werden und anhand des Vorkommens der Zeichenkette 'telefon' in der Spalte 'Supplement' durchsucht.\n",
    "\n",
    "telefon_jobs = all_jobs[all_jobs['Supplement'].str.contains('telefon', case=False)]\n",
    "\n",
    "# Die Resultate der Durchsuchung werden nach Jahren gruppiert und die Anzahl des Vorkommens der Zeichenkette 'telefon' nach Jahren ausgezählt.\n",
    "\n",
    "telefon_counts = telefon_jobs.groupby('Year').size()\n",
    "\n",
    "# Dieser Code zeigt das Resultat, sowohl als Tabelle als auch als Balkendiagramm, unten an.\n",
    "\n",
    "print('\"telefon\" Vorkommnisse Spalte', telefon_counts)\n",
    "telefon_counts.plot(kind='bar', xlabel='Year', ylabel='Count', title='Vorkommnisse von \"telefon\" in der Spalte \"Supplement\" nach Jahren')\n",
    "plt.show()"
   ]
  },
  {
   "cell_type": "code",
   "execution_count": 3,
   "id": "67eb01dc-b9ef-439e-9b5f-ae441b98daa8",
   "metadata": {},
   "outputs": [
    {
     "name": "stdout",
     "output_type": "stream",
     "text": [
      "\"telephon\" Vorkommnisse Spalte Year\n",
      "1911     50\n",
      "1912     56\n",
      "1913     57\n",
      "1914     67\n",
      "1915     82\n",
      "1916     84\n",
      "1917     88\n",
      "1918    169\n",
      "1919    174\n",
      "1920    204\n",
      "1921    222\n",
      "1922    277\n",
      "1923    293\n",
      "1924    284\n",
      "1925    330\n",
      "1926    302\n",
      "1927    289\n",
      "1928    178\n",
      "1929    240\n",
      "1930    241\n",
      "1931    315\n",
      "1932    284\n",
      "1933    344\n",
      "1934    350\n",
      "1935    350\n",
      "1936    346\n",
      "1937    348\n",
      "dtype: int64\n"
     ]
    },
    {
     "data": {
      "image/png": "[encoded data removed]",
      "text/plain": [
       "<Figure size 432x288 with 1 Axes>"
      ]
     },
     "metadata": {
      "needs_background": "light"
     },
     "output_type": "display_data"
    }
   ],
   "source": [
    "# Nun dasselbe, anhand des Vorkommens der Zeichenkette 'telephon' wird die Spalte 'Supplement' durchsucht.\n",
    "\n",
    "telephon_jobs = all_jobs[all_jobs['Supplement'].str.contains('telephon', case=False)]\n",
    "\n",
    "# Die Resultate der Durchsuchung werden nach Jahren gruppiert und die Anzahl des Vorkommens der Zeichenkette 'telephon' nach Jahren ausgezählt.\n",
    "\n",
    "telephon_counts = telephon_jobs.groupby('Year').size()\n",
    "\n",
    "# Dieser Code zeigt das Resultat, sowohl als Tabelle als auch als Balkendiagramm, unten an.\n",
    "\n",
    "print('\"telephon\" Vorkommnisse Spalte', telephon_counts)\n",
    "telephon_counts.plot(kind='bar', xlabel='Year', ylabel='Count', title='Vorkommnisse von \"telephon\" in der Spalte \"Supplement\" nach Jahren')\n",
    "plt.show()"
   ]
  },
  {
   "cell_type": "code",
   "execution_count": 4,
   "id": "09f396b5-f5ac-4c83-a565-e24f8839a284",
   "metadata": {},
   "outputs": [
    {
     "name": "stdout",
     "output_type": "stream",
     "text": [
      "\"Tele f/ph on\" Vorkommnisse Spalte Year\n",
      "1911     55\n",
      "1912     62\n",
      "1913     61\n",
      "1914     73\n",
      "1915     88\n",
      "1916     91\n",
      "1917     97\n",
      "1918    180\n",
      "1919    187\n",
      "1920    217\n",
      "1921    236\n",
      "1922    296\n",
      "1923    310\n",
      "1924    306\n",
      "1925    347\n",
      "1926    321\n",
      "1927    308\n",
      "1928    198\n",
      "1929    258\n",
      "1930    260\n",
      "1931    339\n",
      "1932    308\n",
      "1933    372\n",
      "1934    378\n",
      "1935    375\n",
      "1936    379\n",
      "1937    394\n",
      "dtype: int64\n"
     ]
    },
    {
     "data": {
      "image/png": "[encoded data removed]",
      "text/plain": [
       "<Figure size 432x288 with 1 Axes>"
      ]
     },
     "metadata": {
      "needs_background": "light"
     },
     "output_type": "display_data"
    }
   ],
   "source": [
    "# Nun werden die Resultate innerhalb (result) von 'telefon' und 'telephon' zusammengerechnet.\n",
    "\n",
    "result = telefon_counts + telephon_counts\n",
    "\n",
    "# Und als Tabelle und Balkendiagramm angezeigt.\n",
    "print('\"Tele f/ph on\" Vorkommnisse Spalte', result)\n",
    "result.plot(kind='bar', xlabel='Year', ylabel='Count', title='Vorkommnisse von \"Tele f/ph on\" in der Spalte \"Supplement\" nach Jahren')\n",
    "plt.show()"
   ]
  },
  {
   "cell_type": "code",
   "execution_count": 7,
   "id": "959bfc63-7c53-4d90-bf59-b133e5ff1b49",
   "metadata": {},
   "outputs": [
    {
     "name": "stdout",
     "output_type": "stream",
     "text": [
      "Year\n",
      "1911    167\n",
      "1912    184\n",
      "1913    199\n",
      "1914    207\n",
      "1915    222\n",
      "1916    237\n",
      "1917    253\n",
      "1918    196\n",
      "1919    215\n",
      "1920    226\n",
      "1921    233\n",
      "1922    230\n",
      "1923    247\n",
      "1924    224\n",
      "1925    250\n",
      "1926    265\n",
      "1927    282\n",
      "1928    236\n",
      "1929    253\n",
      "1930    267\n",
      "1931    312\n",
      "1932    325\n",
      "1933    373\n",
      "1934    409\n",
      "1935    485\n",
      "1936    494\n",
      "1937    602\n",
      "dtype: int64\n"
     ]
    }
   ],
   "source": [
    "# Hier wird dem Datensatz 'tele' der Datensatz 'Tele f/ph on' abgezogen. Es scheint also auch noch andere Zeichenketten mit dem Beginn 'tele' zu geben.\n",
    "\n",
    "difference = tele_counts - result\n",
    "\n",
    "print(difference)"
   ]
  },
  {
   "cell_type": "code",
   "execution_count": null,
   "id": "53162ed8-9dcf-40e5-af7c-e5551e02c51e",
   "metadata": {},
   "outputs": [],
   "source": []
  }
 ],
 "metadata": {
  "kernelspec": {
   "display_name": "Python 3 (ipykernel)",
   "language": "python",
   "name": "python3"
  },
  "language_info": {
   "codemirror_mode": {
    "name": "ipython",
    "version": 3
   },
   "file_extension": ".py",
   "mimetype": "text/x-python",
   "name": "python",
   "nbconvert_exporter": "python",
   "pygments_lexer": "ipython3",
   "version": "3.9.7"
  }
 },
 "nbformat": 4,
 "nbformat_minor": 5
}
