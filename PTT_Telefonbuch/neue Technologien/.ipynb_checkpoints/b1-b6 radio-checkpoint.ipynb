{
 "cells": [
  {
   "cell_type": "code",
   "execution_count": 1,
   "id": "91d512dc-b6ac-47b9-97bc-3a10646cfe87",
   "metadata": {},
   "outputs": [
    {
     "name": "stderr",
     "output_type": "stream",
     "text": [
      "C:\\Users\\dkilc\\Anaconda\\lib\\site-packages\\IPython\\core\\interactiveshell.py:3444: DtypeWarning: Columns (5) have mixed types.Specify dtype option on import or set low_memory=False.\n",
      "  exec(code_obj, self.user_global_ns, self.user_ns)\n"
     ]
    },
    {
     "name": "stdout",
     "output_type": "stream",
     "text": [
      "\"radio\" Vorkommnisse Spalte Year\n",
      "1911      1\n",
      "1912      2\n",
      "1913      2\n",
      "1914      1\n",
      "1915      2\n",
      "1916      2\n",
      "1917      1\n",
      "1918      1\n",
      "1919      2\n",
      "1920      3\n",
      "1921      2\n",
      "1922      4\n",
      "1923      5\n",
      "1924     10\n",
      "1925     22\n",
      "1926     33\n",
      "1927     45\n",
      "1928     50\n",
      "1929     72\n",
      "1930     97\n",
      "1931     97\n",
      "1932    204\n",
      "1933    259\n",
      "1934    287\n",
      "1935    334\n",
      "1936    365\n",
      "1937    419\n",
      "dtype: int64\n"
     ]
    },
    {
     "data": {
      "image/png": "[encoded data removed]",
      "text/plain": [
       "<Figure size 432x288 with 1 Axes>"
      ]
     },
     "metadata": {
      "needs_background": "light"
     },
     "output_type": "display_data"
    }
   ],
   "source": [
    "# Mit diesem Code soll das Auftauchen der neuen Technologie Radio herausgefunden werden.\n",
    "\n",
    "# Mit diesem Code werden die notwendigen Programmbibliotheken importiert.\n",
    "\n",
    "import pandas as pd\n",
    "import matplotlib.pyplot as plt\n",
    "\n",
    "# Hier werden die vorhandenen TSV (Tab Seperated Value - also durch Leerschläge werden die einzelnen Werte getrennt) eingelesen. \n",
    "# Es handelt sich dabei um die Daten b1 bis b6. Die anderen Dateien sind nicht indexiert, wodurch eine anderer Code als dieser notwendig wäre. \n",
    "# Das Zusmammenführen der Resultate und somit das Abbilden des gesamten Datensatzes wäre kompliziert und dadurch äusserst Fehleranfällig.\n",
    "\n",
    "jobs_b1 = pd.read_table('C:/Users/dkilc/OneDrive - Universitaet Bern/Neu/Desktop/Studium/DH_WORK/Telefonbuch/b1.tsv')\n",
    "jobs_b2 = pd.read_table('C:/Users/dkilc/OneDrive - Universitaet Bern/Neu/Desktop/Studium/DH_WORK/Telefonbuch/b2.tsv')\n",
    "jobs_b3 = pd.read_table('C:/Users/dkilc/OneDrive - Universitaet Bern/Neu/Desktop/Studium/DH_WORK/Telefonbuch/b3.tsv')\n",
    "jobs_b4 = pd.read_table('C:/Users/dkilc/OneDrive - Universitaet Bern/Neu/Desktop/Studium/DH_WORK/Telefonbuch/b4.tsv')\n",
    "jobs_b5 = pd.read_table('C:/Users/dkilc/OneDrive - Universitaet Bern/Neu/Desktop/Studium/DH_WORK/Telefonbuch/b5.tsv')\n",
    "jobs_b6 = pd.read_table('C:/Users/dkilc/OneDrive - Universitaet Bern/Neu/Desktop/Studium/DH_WORK/Telefonbuch/b6.tsv')\n",
    "\n",
    "# Nun werden all diese Einträge in einem Datensatz zusammengefasst.\n",
    "\n",
    "all_jobs = pd.concat([jobs_b1, jobs_b2, jobs_b3, jobs_b4, jobs_b5, jobs_b6])\n",
    "\n",
    "# Mit diesem Code werden alle Zellen entfernt, die in der Zeile 'Supplement' keinen Eintrag besitzen.\n",
    "\n",
    "all_jobs.dropna(subset=['Supplement'], inplace=True)\n",
    "\n",
    "# Nun wird der Datensatz anhand des Vorkommens der Zeichenkette 'radio' in der Spalte 'Supplement' durchsucht.\n",
    "\n",
    "radio_jobs = all_jobs[all_jobs['Supplement'].str.contains('radio', case=False)]\n",
    "\n",
    "# Die Resultate der Durchsuchung werden nach Jahren gruppiert und die Anzahl des Vorkommens der Zeichenkette 'radio' nach Jahren ausgezählt.\n",
    "\n",
    "radio_counts = radio_jobs.groupby('Year').size()\n",
    "\n",
    "# Dieser Code zeigt das Resultat als Tabelle und Balkendiagramm unten an.\n",
    "\n",
    "print('\"radio\" Vorkommnisse Spalte', radio_counts)\n",
    "radio_counts.plot(kind='bar', xlabel='Year', ylabel='Count', title='Vorkommnisse von \"radio\" in der Spalte \"Supplement\" nach Jahren')\n",
    "plt.show()"
   ]
  },
  {
   "cell_type": "code",
   "execution_count": 2,
   "id": "744b084d-752c-499b-bdf3-13a588c7e747",
   "metadata": {},
   "outputs": [
    {
     "name": "stdout",
     "output_type": "stream",
     "text": [
      "\"radiol\" Vorkommnisse Spalte Year\n",
      "1915     1\n",
      "1916     1\n",
      "1920     1\n",
      "1922     2\n",
      "1923     3\n",
      "1924     3\n",
      "1925     5\n",
      "1926     4\n",
      "1927     6\n",
      "1928     6\n",
      "1929    11\n",
      "1930    10\n",
      "1931     4\n",
      "1932    14\n",
      "1933    12\n",
      "1934    14\n",
      "1935    14\n",
      "1936    14\n",
      "1937    10\n",
      "dtype: int64\n"
     ]
    },
    {
     "data": {
      "image/png": "[encoded data removed]",
      "text/plain": [
       "<Figure size 432x288 with 1 Axes>"
      ]
     },
     "metadata": {
      "needs_background": "light"
     },
     "output_type": "display_data"
    }
   ],
   "source": [
    "# Da die Zeichenkette 'radio' sowohl das gewünschte Radio, aber auch vor dem ungewünschten Radiologie stehen kann, werden hier nun alle Zeichenketten,\n",
    "# die mit 'radiol' beginnen herausgesucht.\n",
    "\n",
    "radiol_jobs = all_jobs[all_jobs['Supplement'].str.contains('radiol', case=False)]\n",
    "\n",
    "# Diese Zeichenkette 'radiol' wird wiederum nach Jahren ausgezählt.\n",
    "\n",
    "radiol_counts = radiol_jobs.groupby('Year').size()\n",
    "\n",
    "# Nun wird das Resultat angezeigt, sowohl als Tabelle, als auch als Balkendiagramm.\n",
    "\n",
    "print('\"radiol\" Vorkommnisse Spalte', radiol_counts)\n",
    "radiol_counts.plot(kind='bar', xlabel='Year', ylabel='Count', title='Vorkommnisse von \"radiol\" in der Spalte \"Supplement\" nach Jahren')\n",
    "plt.show()"
   ]
  },
  {
   "cell_type": "code",
   "execution_count": 3,
   "id": "9efbacf1-62ba-484a-81aa-44fa090526b0",
   "metadata": {},
   "outputs": [
    {
     "name": "stdout",
     "output_type": "stream",
     "text": [
      "\"radio-radiol\" Vorkommnisse Spalte Year\n",
      "1911      NaN\n",
      "1912      NaN\n",
      "1913      NaN\n",
      "1914      NaN\n",
      "1915      1.0\n",
      "1916      1.0\n",
      "1917      NaN\n",
      "1918      NaN\n",
      "1919      NaN\n",
      "1920      2.0\n",
      "1921      NaN\n",
      "1922      2.0\n",
      "1923      2.0\n",
      "1924      7.0\n",
      "1925     17.0\n",
      "1926     29.0\n",
      "1927     39.0\n",
      "1928     44.0\n",
      "1929     61.0\n",
      "1930     87.0\n",
      "1931     93.0\n",
      "1932    190.0\n",
      "1933    247.0\n",
      "1934    273.0\n",
      "1935    320.0\n",
      "1936    351.0\n",
      "1937    409.0\n",
      "dtype: float64\n"
     ]
    },
    {
     "data": {
      "image/png": "[encoded data removed]",
      "text/plain": [
       "<Figure size 432x288 with 1 Axes>"
      ]
     },
     "metadata": {
      "needs_background": "light"
     },
     "output_type": "display_data"
    }
   ],
   "source": [
    "# Dieser Code zieht die ungewünschten Zeichenketten 'radiol' vom gesamten Datensatz, beginnend mit der Zeichenkette 'radio' ab, um das gewünschten Radio besser\n",
    "# zu repräsentieren.\n",
    "\n",
    "result = radio_counts - radiol_counts\n",
    "\n",
    "# Wiederum werden die Resultate als Tabelle und als Balkendiagramm angezeigt.\n",
    "\n",
    "print('\"radio-radiol\" Vorkommnisse Spalte', result)\n",
    "result.plot(kind='bar', xlabel='Year', ylabel='Count', title='Vorkommnisse von \"radio - radiol\" in der Spalte \"Supplement\" nach Jahren')\n",
    "plt.show()"
   ]
  },
  {
   "cell_type": "code",
   "execution_count": null,
   "id": "5cae9026-f16b-4316-aae8-c16bcf2879a3",
   "metadata": {},
   "outputs": [],
   "source": []
  }
 ],
 "metadata": {
  "kernelspec": {
   "display_name": "Python 3 (ipykernel)",
   "language": "python",
   "name": "python3"
  },
  "language_info": {
   "codemirror_mode": {
    "name": "ipython",
    "version": 3
   },
   "file_extension": ".py",
   "mimetype": "text/x-python",
   "name": "python",
   "nbconvert_exporter": "python",
   "pygments_lexer": "ipython3",
   "version": "3.9.7"
  }
 },
 "nbformat": 4,
 "nbformat_minor": 5
}
