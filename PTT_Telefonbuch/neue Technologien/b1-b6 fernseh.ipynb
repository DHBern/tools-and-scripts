{
 "cells": [
  {
   "cell_type": "code",
   "execution_count": 1,
   "id": "91d512dc-b6ac-47b9-97bc-3a10646cfe87",
   "metadata": {},
   "outputs": [
    {
     "name": "stderr",
     "output_type": "stream",
     "text": [
      "C:\\Users\\dkilc\\Anaconda\\lib\\site-packages\\IPython\\core\\interactiveshell.py:3444: DtypeWarning: Columns (5) have mixed types.Specify dtype option on import or set low_memory=False.\n",
      "  exec(code_obj, self.user_global_ns, self.user_ns)\n"
     ]
    },
    {
     "name": "stdout",
     "output_type": "stream",
     "text": [
      "0\n"
     ]
    }
   ],
   "source": [
    "# Mit diesem Code soll das Auftauchen der neuen Technologie Fernsehen herausgefunden werden.\n",
    "\n",
    "# Mit diesem Code werden die notwendigen Programmbibliotheken importiert.\n",
    "\n",
    "import pandas as pd\n",
    "import matplotlib.pyplot as plt\n",
    "\n",
    "# Hier werden die vorhandenen TSV (Tab Seperated Value - also durch Leerschläge werden die einzelnen Werte getrennt) eingelesen. \n",
    "# Es handelt sich dabei um die Daten b1 bis b6. Die anderen Dateien sind nicht indexiert, wodurch eine anderer Code als dieser notwendig wäre. \n",
    "# Das Zusmammenführen der Resultate und somit das Abbilden des gesamten Datensatzes wäre kompliziert und dadurch äusserst Fehleranfällig.\n",
    "\n",
    "jobs_b1 = pd.read_table('C:/Users/dkilc/OneDrive - Universitaet Bern/Neu/Desktop/Studium/DH_WORK/Telefonbuch/b1.tsv')\n",
    "jobs_b2 = pd.read_table('C:/Users/dkilc/OneDrive - Universitaet Bern/Neu/Desktop/Studium/DH_WORK/Telefonbuch/b2.tsv')\n",
    "jobs_b3 = pd.read_table('C:/Users/dkilc/OneDrive - Universitaet Bern/Neu/Desktop/Studium/DH_WORK/Telefonbuch/b3.tsv')\n",
    "jobs_b4 = pd.read_table('C:/Users/dkilc/OneDrive - Universitaet Bern/Neu/Desktop/Studium/DH_WORK/Telefonbuch/b4.tsv')\n",
    "jobs_b5 = pd.read_table('C:/Users/dkilc/OneDrive - Universitaet Bern/Neu/Desktop/Studium/DH_WORK/Telefonbuch/b5.tsv')\n",
    "jobs_b6 = pd.read_table('C:/Users/dkilc/OneDrive - Universitaet Bern/Neu/Desktop/Studium/DH_WORK/Telefonbuch/b6.tsv')\n",
    "\n",
    "# Nun werden all diese Einträge in einem Datensatz zusammengefasst.\n",
    "\n",
    "all_jobs = pd.concat([jobs_b1, jobs_b2, jobs_b3, jobs_b4, jobs_b5, jobs_b6])\n",
    "\n",
    "# Mit diesem Code werden alle Zellen entfernt, die in der Zeile 'Supplement' keinen Eintrag besitzen.\n",
    "\n",
    "all_jobs.dropna(subset=['Supplement'], inplace=True)\n",
    "\n",
    "# Nun wird der Datensatz anhand des Vorkommens der Zeichenkette 'fernseh' in der Spalte 'Supplement' durchsucht.\n",
    "\n",
    "fernseh_jobs = all_jobs[all_jobs['Supplement'].str.contains('fernseh', case=False)]\n",
    "\n",
    "# Die Resultate der Durchsuchung werden nach Jahren gruppiert und die Anzahl des Vorkommens der Zeichenkette 'fernseh' nach Jahren ausgezählt.\n",
    "\n",
    "fernseh_counts = fernseh_jobs.groupby('Year').size()\n",
    "\n",
    "# Nun wird die Länge des Datensatzes ausgezählt. Er ist leer, die Zeichenkette 'fernseh' kommt also nicht vor.\n",
    "\n",
    "print (len(fernseh_counts))"
   ]
  },
  {
   "cell_type": "code",
   "execution_count": 2,
   "id": "959bfc63-7c53-4d90-bf59-b133e5ff1b49",
   "metadata": {},
   "outputs": [
    {
     "name": "stdout",
     "output_type": "stream",
     "text": [
      "0\n"
     ]
    }
   ],
   "source": [
    "# Nun wird der Datensatz anhand des Vorkommens der Zeichenkette 'television' in der Spalte 'Supplement' durchsucht.\n",
    "\n",
    "television_jobs = all_jobs[all_jobs['Supplement'].str.contains('television', case=False)]\n",
    "\n",
    "# Die Resultate der Durchsuchung werden nach Jahren gruppiert und die Anzahl des Vorkommens der Zeichenkette 'television' nach Jahren ausgezählt.\n",
    "\n",
    "television_counts = television_jobs.groupby('Year').size()\n",
    "\n",
    "# Nun wird die Länge des Datensatzes ausgezählt. Er ist leer, die Zeichenkette 'television' kommt also nicht vor.\n",
    "\n",
    "print (len(television_counts))"
   ]
  },
  {
   "cell_type": "code",
   "execution_count": null,
   "id": "51a14aa0-8dc2-407e-926a-c9b132475de6",
   "metadata": {},
   "outputs": [],
   "source": []
  }
 ],
 "metadata": {
  "kernelspec": {
   "display_name": "Python 3 (ipykernel)",
   "language": "python",
   "name": "python3"
  },
  "language_info": {
   "codemirror_mode": {
    "name": "ipython",
    "version": 3
   },
   "file_extension": ".py",
   "mimetype": "text/x-python",
   "name": "python",
   "nbconvert_exporter": "python",
   "pygments_lexer": "ipython3",
   "version": "3.9.7"
  }
 },
 "nbformat": 4,
 "nbformat_minor": 5
}
