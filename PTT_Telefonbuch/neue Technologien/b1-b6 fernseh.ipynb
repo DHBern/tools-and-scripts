{
 "cells": [
  {
   "cell_type": "code",
   "execution_count": 3,
   "id": "91d512dc-b6ac-47b9-97bc-3a10646cfe87",
   "metadata": {},
   "outputs": [
    {
     "name": "stdout",
     "output_type": "stream",
     "text": [
      "0\n"
     ]
    }
   ],
   "source": [
    "import pandas as pd\n",
    "import matplotlib.pyplot as plt\n",
    "\n",
    "# Read all the files into separate DataFrames\n",
    "jobs_b1 = pd.read_table('C:/Users/dkilc/OneDrive - Universitaet Bern/Neu/Desktop/Studium/DH_WORK/Telefonbuch/b1.tsv')\n",
    "jobs_b2 = pd.read_table('C:/Users/dkilc/OneDrive - Universitaet Bern/Neu/Desktop/Studium/DH_WORK/Telefonbuch/b2.tsv')\n",
    "jobs_b3 = pd.read_table('C:/Users/dkilc/OneDrive - Universitaet Bern/Neu/Desktop/Studium/DH_WORK/Telefonbuch/b3.tsv')\n",
    "jobs_b4 = pd.read_table('C:/Users/dkilc/OneDrive - Universitaet Bern/Neu/Desktop/Studium/DH_WORK/Telefonbuch/b4.tsv')\n",
    "jobs_b5 = pd.read_table('C:/Users/dkilc/OneDrive - Universitaet Bern/Neu/Desktop/Studium/DH_WORK/Telefonbuch/b5.tsv')\n",
    "jobs_b6 = pd.read_table('C:/Users/dkilc/OneDrive - Universitaet Bern/Neu/Desktop/Studium/DH_WORK/Telefonbuch/b6.tsv')\n",
    "\n",
    "# Combine all DataFrames into one\n",
    "all_jobs = pd.concat([jobs_b1, jobs_b2, jobs_b3, jobs_b4, jobs_b5, jobs_b6])\n",
    "\n",
    "# Drop rows with missing values in the \"Supplement\" column\n",
    "all_jobs.dropna(subset=['Supplement'], inplace=True)\n",
    "\n",
    "# Filter the DataFrame to include only rows where the \"Supplement\" column contains the string 'fernseh'\n",
    "fernseh_jobs = all_jobs[all_jobs['Supplement'].str.contains('fernseh', case=False)]\n",
    "\n",
    "# Group by \"Year\" and count occurrences of 'fernseh' for each year\n",
    "fernseh_counts = fernseh_jobs.groupby('Year').size()\n",
    "\n",
    "# Plot the counts\n",
    "print (len(fernseh_counts))"
   ]
  },
  {
   "cell_type": "code",
   "execution_count": null,
   "id": "959bfc63-7c53-4d90-bf59-b133e5ff1b49",
   "metadata": {},
   "outputs": [],
   "source": []
  }
 ],
 "metadata": {
  "kernelspec": {
   "display_name": "Python 3 (ipykernel)",
   "language": "python",
   "name": "python3"
  },
  "language_info": {
   "codemirror_mode": {
    "name": "ipython",
    "version": 3
   },
   "file_extension": ".py",
   "mimetype": "text/x-python",
   "name": "python",
   "nbconvert_exporter": "python",
   "pygments_lexer": "ipython3",
   "version": "3.9.7"
  }
 },
 "nbformat": 4,
 "nbformat_minor": 5
}
