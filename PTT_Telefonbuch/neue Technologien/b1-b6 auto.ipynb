{
 "cells": [
  {
   "cell_type": "code",
   "execution_count": 1,
   "id": "91d512dc-b6ac-47b9-97bc-3a10646cfe87",
   "metadata": {},
   "outputs": [
    {
     "name": "stderr",
     "output_type": "stream",
     "text": [
      "C:\\Users\\dkilc\\Anaconda\\lib\\site-packages\\IPython\\core\\interactiveshell.py:3444: DtypeWarning: Columns (5) have mixed types.Specify dtype option on import or set low_memory=False.\n",
      "  exec(code_obj, self.user_global_ns, self.user_ns)\n"
     ]
    },
    {
     "name": "stdout",
     "output_type": "stream",
     "text": [
      "\"auto\" Vorkommnisse Spalte Year\n",
      "1911      81\n",
      "1912     130\n",
      "1913     134\n",
      "1914     183\n",
      "1915     187\n",
      "1916     189\n",
      "1917     181\n",
      "1918     198\n",
      "1919     225\n",
      "1920     332\n",
      "1921     381\n",
      "1922     454\n",
      "1923     539\n",
      "1924     599\n",
      "1925     770\n",
      "1926     869\n",
      "1927    1006\n",
      "1928     756\n",
      "1929    1041\n",
      "1930    1113\n",
      "1931     770\n",
      "1932    1314\n",
      "1933    1462\n",
      "1934    1574\n",
      "1935    1695\n",
      "1936    1768\n",
      "1937    1904\n",
      "dtype: int64\n"
     ]
    },
    {
     "data": {
      "image/png": "[encoded data removed]",
      "text/plain": [
       "<Figure size 432x288 with 1 Axes>"
      ]
     },
     "metadata": {
      "needs_background": "light"
     },
     "output_type": "display_data"
    }
   ],
   "source": [
    "# Mit diesem Code soll das Auftauchen der neuen Technologie Auto herausgefunden werden.\n",
    "\n",
    "# Mit diesem Code werden die notwendigen Programmbibliotheken importiert.\n",
    "\n",
    "import pandas as pd\n",
    "import matplotlib.pyplot as plt\n",
    "\n",
    "# Hier werden die vorhandenen TSV (Tab Seperated Value - also durch Leerschläge werden die einzelnen Werte getrennt) eingelesen. \n",
    "# Es handelt sich dabei um die Daten b1 bis b6. Die anderen Dateien sind nicht indexiert, wodurch eine anderer Code als dieser notwendig wäre. \n",
    "# Das Zusmammenführen der Resultate und somit das Abbilden des gesamten Datensatzes wäre kompliziert und dadurch äusserst Fehleranfällig.\n",
    "\n",
    "jobs_b1 = pd.read_table('C:/Users/dkilc/OneDrive - Universitaet Bern/Neu/Desktop/Studium/DH_WORK/Telefonbuch/b1.tsv')\n",
    "jobs_b2 = pd.read_table('C:/Users/dkilc/OneDrive - Universitaet Bern/Neu/Desktop/Studium/DH_WORK/Telefonbuch/b2.tsv')\n",
    "jobs_b3 = pd.read_table('C:/Users/dkilc/OneDrive - Universitaet Bern/Neu/Desktop/Studium/DH_WORK/Telefonbuch/b3.tsv')\n",
    "jobs_b4 = pd.read_table('C:/Users/dkilc/OneDrive - Universitaet Bern/Neu/Desktop/Studium/DH_WORK/Telefonbuch/b4.tsv')\n",
    "jobs_b5 = pd.read_table('C:/Users/dkilc/OneDrive - Universitaet Bern/Neu/Desktop/Studium/DH_WORK/Telefonbuch/b5.tsv')\n",
    "jobs_b6 = pd.read_table('C:/Users/dkilc/OneDrive - Universitaet Bern/Neu/Desktop/Studium/DH_WORK/Telefonbuch/b6.tsv')\n",
    "\n",
    "# Nun werden all diese Einträge in einem Datensatz zusammengefasst.\n",
    "\n",
    "all_jobs = pd.concat([jobs_b1, jobs_b2, jobs_b3, jobs_b4, jobs_b5, jobs_b6])\n",
    "\n",
    "# Mit diesem Code werden alle Zellen entfernt, die in der Zeile 'Supplement' keinen Eintrag besitzen.\n",
    "\n",
    "all_jobs.dropna(subset=['Supplement'], inplace=True)\n",
    "\n",
    "# Nun wird der Datensatz anhand des Vorkommens der Zeichenkette 'auto' in der Spalte 'Supplement' durchsucht.\n",
    "\n",
    "auto_jobs = all_jobs[all_jobs['Supplement'].str.contains('auto', case=False)]\n",
    "\n",
    "# Die Resultate der Durchsuchung werden nach Jahren gruppiert und die Anzahl des Vorkommens der Zeichenkette 'auto' nach Jahren ausgezählt.\n",
    "\n",
    "auto_counts = auto_jobs.groupby('Year').size()\n",
    "\n",
    "# Dieser Code zeigt das Resultat, sowohl als Tabelle als auch als Balkendiagramm, unten an.\n",
    "\n",
    "print('\"auto\" Vorkommnisse Spalte', auto_counts)\n",
    "auto_counts.plot(kind='bar', xlabel='Year', ylabel='Count', title='Vorkommnisse von \"auto\" in der Spalte \"Supplement\" nach Jahren')\n",
    "plt.show()"
   ]
  },
  {
   "cell_type": "code",
   "execution_count": 3,
   "id": "744b084d-752c-499b-bdf3-13a588c7e747",
   "metadata": {},
   "outputs": [
    {
     "name": "stdout",
     "output_type": "stream",
     "text": [
      "\"automa\" Vorkommnisse Spalte Year\n",
      "1911      7\n",
      "1912      6\n",
      "1913      7\n",
      "1914      9\n",
      "1915     12\n",
      "1916     16\n",
      "1917     13\n",
      "1918     15\n",
      "1919     19\n",
      "1920     31\n",
      "1921     26\n",
      "1922     31\n",
      "1923     30\n",
      "1924     31\n",
      "1925     48\n",
      "1926     51\n",
      "1927     50\n",
      "1928     14\n",
      "1929     33\n",
      "1930     28\n",
      "1931     16\n",
      "1932     57\n",
      "1933     85\n",
      "1934    100\n",
      "1935    139\n",
      "1936    138\n",
      "1937    187\n",
      "dtype: int64\n"
     ]
    },
    {
     "data": {
      "image/png": "[encoded data removed]",
      "text/plain": [
       "<Figure size 432x288 with 1 Axes>"
      ]
     },
     "metadata": {
      "needs_background": "light"
     },
     "output_type": "display_data"
    }
   ],
   "source": [
    "# Da die Zeichenkette 'auto' sowohl vor dem gewünschten Auto bzw. Automobil, aber auch vor dem ungewünschten Automaten stehen kann, werden hier nun alle Zeichenketten,\n",
    "# die mit 'automa' beginnen herausgesucht.\n",
    "\n",
    "automa_jobs = all_jobs[all_jobs['Supplement'].str.contains('automa', case=False)]\n",
    "\n",
    "# Diese Zeichenkette 'automa' wird wiederum nach Jahren ausgezählt.\n",
    "\n",
    "automa_counts = automa_jobs.groupby('Year').size()\n",
    "\n",
    "# Nun wird das Resultat angezeigt, sowohl als Tabelle, als auch als Balkendiagramm.\n",
    "\n",
    "print('\"automa\" Vorkommnisse Spalte', automa_counts)\n",
    "automa_counts.plot(kind='bar', xlabel='Year', ylabel='Count', title='Vorkommnisse von \"automa\" in der Spalte \"Supplement\" nach Jahren')\n",
    "plt.show()"
   ]
  },
  {
   "cell_type": "code",
   "execution_count": 4,
   "id": "67eb01dc-b9ef-439e-9b5f-ae441b98daa8",
   "metadata": {},
   "outputs": [
    {
     "name": "stdout",
     "output_type": "stream",
     "text": [
      "\"auto\" - \"automa\" Vorkomnisse Spalte Year\n",
      "1911      74\n",
      "1912     124\n",
      "1913     127\n",
      "1914     174\n",
      "1915     175\n",
      "1916     173\n",
      "1917     168\n",
      "1918     183\n",
      "1919     206\n",
      "1920     301\n",
      "1921     355\n",
      "1922     423\n",
      "1923     509\n",
      "1924     568\n",
      "1925     722\n",
      "1926     818\n",
      "1927     956\n",
      "1928     742\n",
      "1929    1008\n",
      "1930    1085\n",
      "1931     754\n",
      "1932    1257\n",
      "1933    1377\n",
      "1934    1474\n",
      "1935    1556\n",
      "1936    1630\n",
      "1937    1717\n",
      "dtype: int64\n"
     ]
    },
    {
     "data": {
      "image/png": "[encoded data removed]",
      "text/plain": [
       "<Figure size 432x288 with 1 Axes>"
      ]
     },
     "metadata": {
      "needs_background": "light"
     },
     "output_type": "display_data"
    }
   ],
   "source": [
    "# Dieser Code zieht die ungewünschten Zeichenketten 'automa' vom gesamten Datensatz, beginnend mit der Zeichenkette 'auto' ab, um die gewünschten Autos und Automobile besser\n",
    "# zu repräsentieren.\n",
    "\n",
    "result = auto_counts - automa_counts\n",
    "\n",
    "# Wiederum werden die Resultate als Tabelle und als Balkendiagramm angezeigt.\n",
    "\n",
    "print('\"auto\" - \"automa\" Vorkomnisse Spalte', result)\n",
    "result.plot(kind='bar', xlabel='Year', ylabel='Count', title='Vorkommnisse von \"auto - automa\" in der Spalte \"Supplement\" nach Jahren')\n",
    "plt.show()"
   ]
  },
  {
   "cell_type": "code",
   "execution_count": 11,
   "id": "959bfc63-7c53-4d90-bf59-b133e5ff1b49",
   "metadata": {},
   "outputs": [
    {
     "name": "stdout",
     "output_type": "stream",
     "text": [
      "\"automobil\" Anzahl Year\n",
      "1911     39\n",
      "1912     51\n",
      "1913     44\n",
      "1914     66\n",
      "1915     63\n",
      "1916     65\n",
      "1917     54\n",
      "1918     55\n",
      "1919     53\n",
      "1920     77\n",
      "1921     72\n",
      "1922     80\n",
      "1923     89\n",
      "1924     95\n",
      "1925    119\n",
      "1926    126\n",
      "1927    128\n",
      "1928    106\n",
      "1929    180\n",
      "1930    167\n",
      "1931     81\n",
      "1932    161\n",
      "1933    182\n",
      "1934    192\n",
      "1935    189\n",
      "1936    184\n",
      "1937    134\n",
      "dtype: int64\n"
     ]
    },
    {
     "data": {
      "image/png": "[encoded data removed]",
      "text/plain": [
       "<Figure size 432x288 with 1 Axes>"
      ]
     },
     "metadata": {
      "needs_background": "light"
     },
     "output_type": "display_data"
    }
   ],
   "source": [
    "# Hier wird bloss nach der Zeichenkette 'automobil' abgefragt.\n",
    "\n",
    "automobil_jobs = all_jobs[all_jobs['Supplement'].str.contains('automobil', case=False)]\n",
    "\n",
    "# Wiederum nach Jahren sortiert.\n",
    "\n",
    "automobil_counts = automobil_jobs.groupby('Year').size()\n",
    "\n",
    "# Und als Tabelle und Balkendiagramm angezeigt.\n",
    "\n",
    "print('\"automobil\" Vorkommnisse Spalte', automobil_counts)\n",
    "automobil_counts.plot(kind='bar', xlabel='Year', ylabel='Count', title='Vorkommnisse von \"automobil\" in der Spalte \"Supplement\" nach Jahren')\n",
    "plt.show()"
   ]
  },
  {
   "cell_type": "code",
   "execution_count": null,
   "id": "5cc2d5e7-6e91-47c0-bcd1-ca4e95c5f8ee",
   "metadata": {},
   "outputs": [],
   "source": []
  }
 ],
 "metadata": {
  "kernelspec": {
   "display_name": "Python 3 (ipykernel)",
   "language": "python",
   "name": "python3"
  },
  "language_info": {
   "codemirror_mode": {
    "name": "ipython",
    "version": 3
   },
   "file_extension": ".py",
   "mimetype": "text/x-python",
   "name": "python",
   "nbconvert_exporter": "python",
   "pygments_lexer": "ipython3",
   "version": "3.9.7"
  }
 },
 "nbformat": 4,
 "nbformat_minor": 5
}
