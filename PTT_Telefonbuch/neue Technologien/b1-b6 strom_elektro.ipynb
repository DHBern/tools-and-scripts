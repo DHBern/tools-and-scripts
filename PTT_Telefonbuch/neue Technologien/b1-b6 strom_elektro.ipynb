{
 "cells": [
  {
   "cell_type": "code",
   "execution_count": null,
   "id": "91d512dc-b6ac-47b9-97bc-3a10646cfe87",
   "metadata": {},
   "outputs": [],
   "source": [
    "import pandas as pd\n",
    "import matplotlib.pyplot as plt\n",
    "\n",
    "# Read all the files into separate DataFrames\n",
    "jobs_b1 = pd.read_table('C:/Users/dkilc/OneDrive - Universitaet Bern/Neu/Desktop/Studium/DH_WORK/Telefonbuch/b1.tsv')\n",
    "jobs_b2 = pd.read_table('C:/Users/dkilc/OneDrive - Universitaet Bern/Neu/Desktop/Studium/DH_WORK/Telefonbuch/b2.tsv')\n",
    "jobs_b3 = pd.read_table('C:/Users/dkilc/OneDrive - Universitaet Bern/Neu/Desktop/Studium/DH_WORK/Telefonbuch/b3.tsv')\n",
    "jobs_b4 = pd.read_table('C:/Users/dkilc/OneDrive - Universitaet Bern/Neu/Desktop/Studium/DH_WORK/Telefonbuch/b4.tsv')\n",
    "jobs_b5 = pd.read_table('C:/Users/dkilc/OneDrive - Universitaet Bern/Neu/Desktop/Studium/DH_WORK/Telefonbuch/b5.tsv')\n",
    "jobs_b6 = pd.read_table('C:/Users/dkilc/OneDrive - Universitaet Bern/Neu/Desktop/Studium/DH_WORK/Telefonbuch/b6.tsv')\n",
    "\n",
    "# Combine all DataFrames into one\n",
    "all_jobs = pd.concat([jobs_b1, jobs_b2, jobs_b3, jobs_b4, jobs_b5, jobs_b6])\n",
    "\n",
    "# Drop rows with missing values in the \"Supplement\" column\n",
    "all_jobs.dropna(subset=['Supplement'], inplace=True)\n",
    "\n",
    "# Filter the DataFrame to include only rows where the \"Supplement\" column contains the string 'strom'\n",
    "strom_jobs = all_jobs[all_jobs['Supplement'].str.contains('strom', case=False)]\n",
    "\n",
    "# Group by \"Year\" and count occurrences of 'strom' for each year\n",
    "strom_counts = strom_jobs.groupby('Year').size()\n",
    "\n",
    "# Plot the counts\n",
    "print('\"strom\" numbers', strom_counts)\n",
    "strom_counts.plot(kind='bar', xlabel='Year', ylabel='Count', title='Occurrences of \"strom\" in Supplement Column by Year')\n",
    "plt.show()"
   ]
  },
  {
   "cell_type": "code",
   "execution_count": 2,
   "id": "744b084d-752c-499b-bdf3-13a588c7e747",
   "metadata": {},
   "outputs": [
    {
     "name": "stdout",
     "output_type": "stream",
     "text": [
      "\"automa\" numbers Year\n",
      "1911      7\n",
      "1912      6\n",
      "1913      7\n",
      "1914      9\n",
      "1915     12\n",
      "1916     16\n",
      "1917     13\n",
      "1918     15\n",
      "1919     19\n",
      "1920     31\n",
      "1921     26\n",
      "1922     31\n",
      "1923     30\n",
      "1924     31\n",
      "1925     48\n",
      "1926     51\n",
      "1927     50\n",
      "1928     14\n",
      "1929     33\n",
      "1930     28\n",
      "1931     16\n",
      "1932     57\n",
      "1933     85\n",
      "1934    100\n",
      "1935    139\n",
      "1936    138\n",
      "1937    187\n",
      "dtype: int64\n"
     ]
    },
    {
     "data": {
      "image/png": "[encoded data removed]",
      "text/plain": [
       "<Figure size 432x288 with 1 Axes>"
      ]
     },
     "metadata": {
      "needs_background": "light"
     },
     "output_type": "display_data"
    }
   ],
   "source": [
    "# Filter the DataFrame to include only rows where the \"Supplement\" column contains the string 'elektro'\n",
    "elektro_jobs = all_jobs[all_jobs['Supplement'].str.contains('elektro', case=False)]\n",
    "\n",
    "# Group by \"Year\" and count occurrences of 'strom' for each year\n",
    "elektro_counts = elektro_jobs.groupby('Year').size()\n",
    "\n",
    "# Plot the counts\n",
    "print('\"elektro\" numbers', elektro_counts)\n",
    "auto_strom.plot(kind='bar', xlabel='Year', ylabel='Count', title='Occurrences of \"elektro\" in Supplement Column by Year')\n",
    "plt.show()"
   ]
  },
  {
   "cell_type": "code",
   "execution_count": null,
   "id": "5cc2d5e7-6e91-47c0-bcd1-ca4e95c5f8ee",
   "metadata": {},
   "outputs": [],
   "source": []
  }
 ],
 "metadata": {
  "kernelspec": {
   "display_name": "Python 3 (ipykernel)",
   "language": "python",
   "name": "python3"
  },
  "language_info": {
   "codemirror_mode": {
    "name": "ipython",
    "version": 3
   },
   "file_extension": ".py",
   "mimetype": "text/x-python",
   "name": "python",
   "nbconvert_exporter": "python",
   "pygments_lexer": "ipython3",
   "version": "3.9.7"
  }
 },
 "nbformat": 4,
 "nbformat_minor": 5
}
