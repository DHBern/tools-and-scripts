{
 "cells": [
  {
   "cell_type": "code",
   "execution_count": 1,
   "id": "91d512dc-b6ac-47b9-97bc-3a10646cfe87",
   "metadata": {},
   "outputs": [
    {
     "name": "stderr",
     "output_type": "stream",
     "text": [
      "C:\\Users\\dkilc\\Anaconda\\lib\\site-packages\\IPython\\core\\interactiveshell.py:3444: DtypeWarning: Columns (5) have mixed types.Specify dtype option on import or set low_memory=False.\n",
      "  exec(code_obj, self.user_global_ns, self.user_ns)\n"
     ]
    },
    {
     "name": "stdout",
     "output_type": "stream",
     "text": [
      "\"strom\" numbers Year\n",
      "1911    5\n",
      "1912    4\n",
      "1913    3\n",
      "1914    3\n",
      "1915    3\n",
      "1916    5\n",
      "1917    2\n",
      "1918    3\n",
      "1919    3\n",
      "1920    5\n",
      "1921    5\n",
      "1922    5\n",
      "1923    7\n",
      "1924    7\n",
      "1925    5\n",
      "1926    7\n",
      "1927    9\n",
      "1928    2\n",
      "1929    4\n",
      "1930    3\n",
      "1931    4\n",
      "1932    3\n",
      "1933    3\n",
      "1934    6\n",
      "1935    4\n",
      "1936    6\n",
      "1937    8\n",
      "dtype: int64\n"
     ]
    },
    {
     "data": {
      "image/png": "[encoded data removed]",
      "text/plain": [
       "<Figure size 432x288 with 1 Axes>"
      ]
     },
     "metadata": {
      "needs_background": "light"
     },
     "output_type": "display_data"
    }
   ],
   "source": [
    "# Mit diesem Code soll das Auftauchen der neuen Technologie Strom bzw. Elektrizität und Elektronik herausgefunden werden.\n",
    "\n",
    "# Mit diesem Code werden die notwendigen Programmbibliotheken importiert.\n",
    "\n",
    "import pandas as pd\n",
    "import matplotlib.pyplot as plt\n",
    "\n",
    "# Hier werden die vorhandenen TSV (Tab Seperated Value - also durch Leerschläge werden die einzelnen Werte getrennt) eingelesen. \n",
    "# Es handelt sich dabei um die Daten b1 bis b6. Die anderen Dateien sind nicht indexiert, wodurch eine anderer Code als dieser notwendig wäre. \n",
    "# Das Zusmammenführen der Resultate und somit das Abbilden des gesamten Datensatzes wäre kompliziert und dadurch äusserst Fehleranfällig.\n",
    "\n",
    "jobs_b1 = pd.read_table('C:/Users/dkilc/OneDrive - Universitaet Bern/Neu/Desktop/Studium/DH_WORK/Telefonbuch/b1.tsv')\n",
    "jobs_b2 = pd.read_table('C:/Users/dkilc/OneDrive - Universitaet Bern/Neu/Desktop/Studium/DH_WORK/Telefonbuch/b2.tsv')\n",
    "jobs_b3 = pd.read_table('C:/Users/dkilc/OneDrive - Universitaet Bern/Neu/Desktop/Studium/DH_WORK/Telefonbuch/b3.tsv')\n",
    "jobs_b4 = pd.read_table('C:/Users/dkilc/OneDrive - Universitaet Bern/Neu/Desktop/Studium/DH_WORK/Telefonbuch/b4.tsv')\n",
    "jobs_b5 = pd.read_table('C:/Users/dkilc/OneDrive - Universitaet Bern/Neu/Desktop/Studium/DH_WORK/Telefonbuch/b5.tsv')\n",
    "jobs_b6 = pd.read_table('C:/Users/dkilc/OneDrive - Universitaet Bern/Neu/Desktop/Studium/DH_WORK/Telefonbuch/b6.tsv')\n",
    "\n",
    "# Nun werden all diese Einträge in einem Datensatz zusammengefasst.\n",
    "\n",
    "all_jobs = pd.concat([jobs_b1, jobs_b2, jobs_b3, jobs_b4, jobs_b5, jobs_b6])\n",
    "\n",
    "# Mit diesem Code werden alle Zellen entfernt, die in der Zeile 'Supplement' keinen Eintrag besitzen.\n",
    "\n",
    "all_jobs.dropna(subset=['Supplement'], inplace=True)\n",
    "\n",
    "# Nun wird der Datensatz anhand des Vorkommens der Zeichenkette 'strom' in der Spalte 'Supplement' durchsucht.\n",
    "\n",
    "strom_jobs = all_jobs[all_jobs['Supplement'].str.contains('strom', case=False)]\n",
    "\n",
    "# Die Resultate der Durchsuchung werden nach Jahren gruppiert und die Anzahl des Vorkommens der Zeichenkette 'strom' nach Jahren ausgezählt.\n",
    "\n",
    "strom_counts = strom_jobs.groupby('Year').size()\n",
    "\n",
    "# Dieser Code zeigt das Resultat, sowohl als Tabelle als auch als Balkendiagramm, unten an.\n",
    "\n",
    "print('\"strom\" numbers', strom_counts)\n",
    "strom_counts.plot(kind='bar', xlabel='Year', ylabel='Count', title='Vorkommnisse von \"strom\" in der Spalte \"Supplement\" nach Jahren')\n",
    "plt.show()"
   ]
  },
  {
   "cell_type": "code",
   "execution_count": 3,
   "id": "744b084d-752c-499b-bdf3-13a588c7e747",
   "metadata": {},
   "outputs": [
    {
     "name": "stdout",
     "output_type": "stream",
     "text": [
      "\"elektri\" numbers Year\n",
      "1911     73\n",
      "1912     64\n",
      "1913     48\n",
      "1914     57\n",
      "1915     55\n",
      "1916     65\n",
      "1917     71\n",
      "1918     71\n",
      "1919     82\n",
      "1920     99\n",
      "1921    130\n",
      "1922    143\n",
      "1923    163\n",
      "1924    151\n",
      "1925    177\n",
      "1926    143\n",
      "1927    133\n",
      "1928     86\n",
      "1929     81\n",
      "1930     78\n",
      "1931     99\n",
      "1932     87\n",
      "1933    105\n",
      "1934     95\n",
      "1935    109\n",
      "1936    130\n",
      "1937    128\n",
      "dtype: int64\n"
     ]
    },
    {
     "data": {
      "image/png": "[encoded data removed]",
      "text/plain": [
       "<Figure size 432x288 with 1 Axes>"
      ]
     },
     "metadata": {
      "needs_background": "light"
     },
     "output_type": "display_data"
    }
   ],
   "source": [
    "# Nun wird der Datensatz anhand des Vorkommens der Zeichenkette 'elektri' in der Spalte 'Supplement' durchsucht.\n",
    "\n",
    "elektri_jobs = all_jobs[all_jobs['Supplement'].str.contains('elektri', case=False)]\n",
    "\n",
    "# Die Resultate der Durchsuchung werden nach Jahren gruppiert und die Anzahl des Vorkommens der Zeichenkette 'elektri' nach Jahren ausgezählt.\n",
    "\n",
    "elektri_counts = elektri_jobs.groupby('Year').size()\n",
    "\n",
    "# Dieser Code zeigt das Resultat, sowohl als Tabelle als auch als Balkendiagramm, unten an.\n",
    "\n",
    "print('\"elektri\" numbers', elektri_counts)\n",
    "elektri_counts.plot(kind='bar', xlabel='Year', ylabel='Count', title='Vorkommnisse von \"elektri\" in der Spalte \"Supplement\" nach Jahren')\n",
    "plt.show()"
   ]
  },
  {
   "cell_type": "code",
   "execution_count": 4,
   "id": "5cc2d5e7-6e91-47c0-bcd1-ca4e95c5f8ee",
   "metadata": {},
   "outputs": [
    {
     "name": "stdout",
     "output_type": "stream",
     "text": [
      "\"elektro\" numbers Year\n",
      "1911     64\n",
      "1912     69\n",
      "1913     64\n",
      "1914     76\n",
      "1915     79\n",
      "1916     79\n",
      "1917     73\n",
      "1918     83\n",
      "1919     96\n",
      "1920    115\n",
      "1921    115\n",
      "1922    134\n",
      "1923    136\n",
      "1924    134\n",
      "1925    158\n",
      "1926    172\n",
      "1927    162\n",
      "1928     80\n",
      "1929     94\n",
      "1930    103\n",
      "1931    154\n",
      "1932    160\n",
      "1933    189\n",
      "1934    224\n",
      "1935    238\n",
      "1936    254\n",
      "1937    259\n",
      "dtype: int64\n"
     ]
    },
    {
     "data": {
      "image/png": "[encoded data removed]",
      "text/plain": [
       "<Figure size 432x288 with 1 Axes>"
      ]
     },
     "metadata": {
      "needs_background": "light"
     },
     "output_type": "display_data"
    }
   ],
   "source": [
    "# Nun wird der Datensatz anhand des Vorkommens der Zeichenkette 'elektro' in der Spalte 'Supplement' durchsucht.\n",
    "\n",
    "elektro_jobs = all_jobs[all_jobs['Supplement'].str.contains('elektro', case=False)]\n",
    "\n",
    "# Die Resultate der Durchsuchung werden nach Jahren gruppiert und die Anzahl des Vorkommens der Zeichenkette 'elektro' nach Jahren ausgezählt.\n",
    "\n",
    "elektro_counts = elektro_jobs.groupby('Year').size()\n",
    "\n",
    "# Dieser Code zeigt das Resultat, sowohl als Tabelle als auch als Balkendiagramm, unten an.\n",
    "\n",
    "print('\"elektro\" numbers', elektro_counts)\n",
    "elektro_counts.plot(kind='bar', xlabel='Year', ylabel='Count', title='Vorkommnisse von \"elektro\" in der Spalte \"Supplement\" nach Jahren')\n",
    "plt.show()"
   ]
  },
  {
   "cell_type": "code",
   "execution_count": null,
   "id": "032be748-1aed-4c59-ae5b-55fb335bfc42",
   "metadata": {},
   "outputs": [],
   "source": []
  }
 ],
 "metadata": {
  "kernelspec": {
   "display_name": "Python 3 (ipykernel)",
   "language": "python",
   "name": "python3"
  },
  "language_info": {
   "codemirror_mode": {
    "name": "ipython",
    "version": 3
   },
   "file_extension": ".py",
   "mimetype": "text/x-python",
   "name": "python",
   "nbconvert_exporter": "python",
   "pygments_lexer": "ipython3",
   "version": "3.9.7"
  }
 },
 "nbformat": 4,
 "nbformat_minor": 5
}
