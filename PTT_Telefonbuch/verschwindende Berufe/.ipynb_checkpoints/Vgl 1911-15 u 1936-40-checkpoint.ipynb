{
 "cells": [
  {
   "cell_type": "code",
   "execution_count": 4,
   "id": "44a6d57e-0370-4a4f-8944-f2ac973a86a0",
   "metadata": {},
   "outputs": [],
   "source": [
    "import pandas as pd\n",
    "import matplotlib.pyplot as plt\n",
    "\n",
    "jobs_b1 =  pd.read_table ('C:/Users/dkilc/OneDrive - Universitaet Bern/Neu/Desktop/Studium/DH_WORK/Telefonbuch/b1.tsv')\n",
    "jobs_b5 =  pd.read_table ('C:/Users/dkilc/OneDrive - Universitaet Bern/Neu/Desktop/Studium/DH_WORK/Telefonbuch/b5.tsv')\n",
    "jobs_b6 =  pd.read_table ('C:/Users/dkilc/OneDrive - Universitaet Bern/Neu/Desktop/Studium/DH_WORK/Telefonbuch/b6.tsv')\n",
    "\n",
    "jobs_b1_11to15 = jobs_b1[(jobs_b1['Year'] >= 1911) & (jobs_b1['Year'] <= 1915)]\n",
    "jobs_b5_11to15 = jobs_b5[(jobs_b5['Year'] >= 1911) & (jobs_b5['Year'] <= 1915)]\n",
    "jobs_b6_11to15 = jobs_b6[(jobs_b6['Year'] >= 1911) & (jobs_b6['Year'] <= 1915)]\n",
    "\n",
    "jobs_1911_to_1915 = pd.concat([jobs_b1_11to15, jobs_b5_11to15, jobs_b6_11to15], ignore_index=True)"
   ]
  },
  {
   "cell_type": "code",
   "execution_count": 5,
   "id": "f05d088a-2a32-43bd-b03a-b47a5f03359e",
   "metadata": {},
   "outputs": [
    {
     "name": "stdout",
     "output_type": "stream",
     "text": [
      "Top 50: 1911-1915\n",
      "Metzger            2136\n",
      "Dr. med.           1748\n",
      "Bäckerei           1084\n",
      "Wohnung            1057\n",
      "Architekt           737\n",
      "Baugeschäft         679\n",
      "Wirt                633\n",
      "Baumeister          609\n",
      "Tierarzt            574\n",
      "Metzgerei           557\n",
      "Ingenieur           554\n",
      "Zahnarzt            526\n",
      "2                   505\n",
      "Mme                 477\n",
      "1                   466\n",
      "Weinhandlung        462\n",
      "Fuhrhalter          462\n",
      "boucher             443\n",
      "Kaufmann            441\n",
      "4                   433\n",
      "Buchdruckerei       420\n",
      "Arzt                415\n",
      "3                   413\n",
      "Handlung            401\n",
      "Wohng.              398\n",
      "Notar               397\n",
      "Bureau              378\n",
      "négociant           353\n",
      "Bäcker              352\n",
      "Broderies           348\n",
      "Viehhändler         345\n",
      "5                   344\n",
      "Spenglermeister     342\n",
      "Malermeister        330\n",
      "Pfarrer             328\n",
      "Bäckermeister       327\n",
      "Tapezierer          317\n",
      "6                   314\n",
      "Telegraphenbur.     312\n",
      "8                   288\n",
      "Eisenhandlung       262\n",
      "Coiffeur            259\n",
      "Bauunternehmer      259\n",
      "notaire             257\n",
      "Handelsgärtner      257\n",
      "Dr.                 255\n",
      "7                   254\n",
      "Wirtschaft          253\n",
      "Grand’Rue           252\n",
      "Hebamme             247\n",
      "Name: Supplement, dtype: int64\n"
     ]
    }
   ],
   "source": [
    "print(\"Top 50: 1911-1915\")\n",
    "\n",
    "print(jobs_1911_to_1915[\"Supplement\"].value_counts().head(50))"
   ]
  },
  {
   "cell_type": "code",
   "execution_count": 6,
   "id": "89d4e1c5-d353-4ec5-9a30-0536f82997e5",
   "metadata": {},
   "outputs": [],
   "source": [
    "jobs_b2 =  pd.read_table ('C:/Users/dkilc/OneDrive - Universitaet Bern/Neu/Desktop/Studium/DH_WORK/Telefonbuch/b2.tsv')\n",
    "jobs_b4 =  pd.read_table ('C:/Users/dkilc/OneDrive - Universitaet Bern/Neu/Desktop/Studium/DH_WORK/Telefonbuch/b4.tsv')\n",
    "\n",
    "jobs_b2_36to40 = jobs_b2[(jobs_b2['Year'] >= 1936) & (jobs_b2['Year'] <= 1940)]\n",
    "jobs_b4_36to40 = jobs_b4[(jobs_b4['Year'] >= 1936) & (jobs_b4['Year'] <= 1940)]\n",
    "jobs_b5_36to40 = jobs_b5[(jobs_b5['Year'] >= 1936) & (jobs_b5['Year'] <= 1940)]\n",
    "jobs_b6_36to40 = jobs_b6[(jobs_b6['Year'] >= 1936) & (jobs_b6['Year'] <= 1940)]\n",
    "\n",
    "jobs_1936_to_1940 = pd.concat([jobs_b2_36to40, jobs_b4_36to40, jobs_b5_36to40, jobs_b6_36to40], ignore_index=True)\n",
    "\n",
    "# Es gäbe auch noch 1936-1940 Daten in den Files c1, c2, c3, c5 und c6 - die sind aber anders aufgebaut/ nicht sauber indiziert, weswegen der Vergleich unten nicht sauber funktionieren würde."
   ]
  },
  {
   "cell_type": "code",
   "execution_count": 7,
   "id": "b922f06d-a924-4585-b564-a7390d9dcce7",
   "metadata": {},
   "outputs": [
    {
     "name": "stdout",
     "output_type": "stream",
     "text": [
      "Top 50: 1936-1940\n",
      "Mme                         1541\n",
      "Kfm.                        1073\n",
      "Lehrer                       834\n",
      "Metzgerei                    763\n",
      "Landwirt                     735\n",
      "Bäckerei                     727\n",
      "Mlle                         686\n",
      "Handlg.                      669\n",
      "Landw.                       619\n",
      "station téléph. publique     611\n",
      "Ing.                         504\n",
      "agric.                       457\n",
      "négt                         444\n",
      "Metzger                      438\n",
      "entrepr.                     430\n",
      "appart.                      430\n",
      "représ.                      409\n",
      "Viehhändler                  373\n",
      "ing.                         353\n",
      "Herren- u. Damensalon        337\n",
      "Kaufmann                     308\n",
      "Post u. Telegraph            308\n",
      "Handlung                     306\n",
      "Prokurist                    303\n",
      "Bäckerei-Konditorei          296\n",
      "Arch.                        293\n",
      "boul.-pâtiss.                292\n",
      "Pfarrer                      291\n",
      "bouch.                       278\n",
      "2                            275\n",
      "prof.                        275\n",
      "Architekt                    275\n",
      "Vve                          269\n",
      "Malermeister                 267\n",
      "Wohng.                       264\n",
      "épie.                        262\n",
      "Baugeschäft                  262\n",
      "arch.                        250\n",
      "1                            237\n",
      "Chemiker                     231\n",
      "Notar                        227\n",
      "mech. Schreinerei            224\n",
      "Fabrikant                    223\n",
      "Vertr.                       220\n",
      "Hebamme                      220\n",
      "A.                           219\n",
      "Bankbeamter                  216\n",
      "Vertreter                    213\n",
      "Direktor                     212\n",
      "past.                        209\n",
      "Name: Supplement, dtype: int64\n"
     ]
    }
   ],
   "source": [
    "print(\"Top 50: 1936-1940\")\n",
    "\n",
    "print(jobs_1936_to_1940[\"Supplement\"].value_counts().head(50))"
   ]
  },
  {
   "cell_type": "code",
   "execution_count": 8,
   "id": "e21a94c0-7f9d-4ca9-8e01-55b69529527c",
   "metadata": {
    "tags": []
   },
   "outputs": [
    {
     "name": "stdout",
     "output_type": "stream",
     "text": [
      "Values unique to jobs_1911_to_1915:\n",
      "Index([' Bellevue»', ' Bezirkstierarzt, z. Frohberg',\n",
      "       ' Tuch- und Mass geschäft, Bahnhofstr.', ' Wirtschaft z. Ochsen, Hofen',\n",
      "       ' Wohnung', ' porcelaines, r. du Rhône', '!)' prof, à l’Université',\n",
      "       '!.) prof, à l’Université', '!.. grains et farines', '!_',\n",
      "       ...\n",
      "       '„Pik-Pik“-Fabrikat.', '„Rheinfelder Bierhalle“', '„Schönau“',\n",
      "       '„Tannengut“, Fisibach',\n",
      "       '„Tassametri luganesi“, garage, Cassarate, Campo Marzio', '„Tota“',\n",
      "       '„Volksstimme von Baselland“', '„Waldhaus“',\n",
      "       '„Waldhiisli“. Oristhalstrasse', '„Waldhüsli“'],\n",
      "      dtype='object', length=82876)\n",
      "\n",
      "Values unique to jobs_1936_to_1940:\n",
      "Index([' Hebamme', ' Lucciola', ' Spezereihdlg. u. Velos-Reparaturwerkstätte',\n",
      "       ' r. d’Italie, 9', '!' secrét. Départ. Instruction Publique',\n",
      "       '!' secrét. chancellerie Etat',\n",
      "       '&. Cie., Baumaterial-, Holzund Eisenhandlung',\n",
      "       '&. Co., Polstergestellfabr.',\n",
      "       '&. Walser, Polstergestellfabrik, Hammerstr. 102', '&.M., Alpenrose',\n",
      "       ...\n",
      "       '„im Gruene“', '„im Gärtli“, Tannacker', '„im Mätteli“',\n",
      "       '„in der Rütti“', '„ufem Blatti“', '„uiem Blatti ',\n",
      "       '„z. durstigen Wanderer“',\n",
      "       '„zur Schreibmaschine“, im Herzoggut 9 (regulär anwesend: vormittags IO—12 Uhr) .',\n",
      "       '„Örfina“', '„ülmenberg“'],\n",
      "      dtype='object', length=133400)\n"
     ]
    }
   ],
   "source": [
    "# Calculate value counts for \"Supplement\" column in jobs_1911_to_1915\n",
    "counts_1911_to_1915 = jobs_1911_to_1915[\"Supplement\"].value_counts()\n",
    "\n",
    "# Calculate value counts for \"Supplement\" column in jobs_1936_to_1940\n",
    "counts_1936_to_1940 = jobs_1936_to_1940[\"Supplement\"].value_counts()\n",
    "\n",
    "# Identify values appearing only in one dataset or the other\n",
    "unique_to_1911_to_1915 = counts_1911_to_1915.index.difference(counts_1936_to_1940.index)\n",
    "unique_to_1936_to_1940 = counts_1936_to_1940.index.difference(counts_1911_to_1915.index)\n",
    "\n",
    "# Display the unique values for each dataset\n",
    "print(\"Values unique to jobs_1911_to_1915:\")\n",
    "print(unique_to_1911_to_1915)\n",
    "\n",
    "print(\"\\nValues unique to jobs_1936_to_1940:\")\n",
    "print(unique_to_1936_to_1940)"
   ]
  },
  {
   "cell_type": "code",
   "execution_count": null,
   "id": "a6a99c99-1538-47fe-8509-f1da8a220416",
   "metadata": {},
   "outputs": [],
   "source": []
  }
 ],
 "metadata": {
  "kernelspec": {
   "display_name": "Python 3 (ipykernel)",
   "language": "python",
   "name": "python3"
  },
  "language_info": {
   "codemirror_mode": {
    "name": "ipython",
    "version": 3
   },
   "file_extension": ".py",
   "mimetype": "text/x-python",
   "name": "python",
   "nbconvert_exporter": "python",
   "pygments_lexer": "ipython3",
   "version": "3.9.7"
  }
 },
 "nbformat": 4,
 "nbformat_minor": 5
}
